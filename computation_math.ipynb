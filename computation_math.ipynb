{
 "cells": [
  {
   "cell_type": "code",
   "execution_count": 21,
   "metadata": {},
   "outputs": [],
   "source": [
    "import numpy as np\n",
    "import matplotlib.pyplot as plt"
   ]
  },
  {
   "cell_type": "code",
   "execution_count": 22,
   "metadata": {},
   "outputs": [],
   "source": [
    "def f(x):\n",
    "    return np.sin(x)"
   ]
  },
  {
   "cell_type": "markdown",
   "metadata": {},
   "source": [
    "# Вычисление интеграла\n",
    "$$ f(x) = \\int_0^{\\pi} sin(x)dx$$\n",
    "\n",
    "### Методом трапеций\n",
    "* Разбиваем отрезок интегрирования на $N$ частей\n",
    "* На каждом считаем функцию константой"
   ]
  },
  {
   "cell_type": "code",
   "execution_count": 46,
   "metadata": {},
   "outputs": [],
   "source": [
    "def rectangle(f, N, lim):\n",
    "    history = []\n",
    "    h = (lim[1] - lim[0])/N\n",
    "    I = 0\n",
    "    left_lim = lim[0]\n",
    "    for i in range(N):\n",
    "        value = (f(left_lim) + f(left_lim + h)) / 2.\n",
    "        I += value * h\n",
    "        history.append([[left_lim, left_lim + h], [value, value]])\n",
    "        left_lim += h\n",
    "    return I, history"
   ]
  },
  {
   "cell_type": "code",
   "execution_count": 47,
   "metadata": {},
   "outputs": [
    {
     "name": "stdout",
     "output_type": "stream",
     "text": [
      "1.984\n"
     ]
    }
   ],
   "source": [
    "lims = [0, np.pi]\n",
    "N = 10\n",
    "I, history = rectangle(f, N, lims)\n",
    "\n"
   ]
  },
  {
   "cell_type": "code",
   "execution_count": 48,
   "metadata": {},
   "outputs": [],
   "source": [
    "x = np.linspace(*lims, 100)\n",
    "y = f(x)"
   ]
  },
  {
   "cell_type": "code",
   "execution_count": 52,
   "metadata": {},
   "outputs": [
    {
     "data": {
      "image/png": "[encoded data removed]",
      "text/plain": [
       "<Figure size 432x288 with 1 Axes>"
      ]
     },
     "metadata": {
      "needs_background": "light"
     },
     "output_type": "display_data"
    }
   ],
   "source": [
    "plt.plot(x, y)\n",
    "for x_section, y_section in history:\n",
    "    plt.plot(x_section, y_section)\n",
    "    plt.plot([x_section[0], x_section[0]], [y_section[0], 0])\n",
    "    plt.plot([x_section[1], x_section[1]], [y_section[0], 0])    "
   ]
  },
  {
   "cell_type": "markdown",
   "metadata": {},
   "source": [
    "## Или готовое решение"
   ]
  },
  {
   "cell_type": "code",
   "execution_count": 53,
   "metadata": {},
   "outputs": [],
   "source": [
    "from scipy.integrate import trapz"
   ]
  },
  {
   "cell_type": "code",
   "execution_count": 55,
   "metadata": {},
   "outputs": [],
   "source": [
    "x = np.linspace(*lims, N)\n",
    "y = f(x)"
   ]
  },
  {
   "cell_type": "code",
   "execution_count": 58,
   "metadata": {},
   "outputs": [
    {
     "name": "stdout",
     "output_type": "stream",
     "text": [
      "1.980\n"
     ]
    }
   ],
   "source": [
    "I = trapz(y, x, (lims[1] - lims[0]) / N)\n",
    "print(\"{0:.3f}\".format(I))"
   ]
  }
 ],
 "metadata": {
  "kernelspec": {
   "display_name": "Python 3",
   "language": "python",
   "name": "python3"
  },
  "language_info": {
   "codemirror_mode": {
    "name": "ipython",
    "version": 3
   },
   "file_extension": ".py",
   "mimetype": "text/x-python",
   "name": "python",
   "nbconvert_exporter": "python",
   "pygments_lexer": "ipython3",
   "version": "3.6.6"
  }
 },
 "nbformat": 4,
 "nbformat_minor": 2
}
